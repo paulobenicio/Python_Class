{
 "cells": [
  {
   "cell_type": "markdown",
   "id": "84c1760a",
   "metadata": {},
   "source": [
    "Exercício para criar uma calculadora de Área de Paralelograma"
   ]
  },
  {
   "cell_type": "code",
   "execution_count": 1,
   "id": "51d03148",
   "metadata": {},
   "outputs": [
    {
     "name": "stdout",
     "output_type": "stream",
     "text": [
      "Bem-vindo ao Calculador de Área de Paralelograma\n"
     ]
    }
   ],
   "source": [
    "print(\"Bem-vindo ao Calculador de Área de Paralelograma\")"
   ]
  },
  {
   "cell_type": "code",
   "execution_count": 2,
   "id": "2c47788c",
   "metadata": {},
   "outputs": [
    {
     "name": "stdout",
     "output_type": "stream",
     "text": [
      "Insira o compimento da base: 4\n"
     ]
    }
   ],
   "source": [
    "base = float(input(\"Insira o compimento da base: \"))"
   ]
  },
  {
   "cell_type": "code",
   "execution_count": 3,
   "id": "70fad183",
   "metadata": {},
   "outputs": [
    {
     "name": "stdout",
     "output_type": "stream",
     "text": [
      "Insira a altura: 6\n"
     ]
    }
   ],
   "source": [
    "altura = float(input(\"Insira a altura: \"))"
   ]
  },
  {
   "cell_type": "code",
   "execution_count": 4,
   "id": "4748439f",
   "metadata": {},
   "outputs": [],
   "source": [
    "area = base * altura"
   ]
  },
  {
   "cell_type": "code",
   "execution_count": 5,
   "id": "f3c9ecbe",
   "metadata": {},
   "outputs": [
    {
     "name": "stdout",
     "output_type": "stream",
     "text": [
      "A área do paralelograma é:  24.0\n"
     ]
    }
   ],
   "source": [
    "print(\"A área do paralelograma é: \", area)"
   ]
  }
 ],
 "metadata": {
  "kernelspec": {
   "display_name": "Python 3 (ipykernel)",
   "language": "python",
   "name": "python3"
  },
  "language_info": {
   "codemirror_mode": {
    "name": "ipython",
    "version": 3
   },
   "file_extension": ".py",
   "mimetype": "text/x-python",
   "name": "python",
   "nbconvert_exporter": "python",
   "pygments_lexer": "ipython3",
   "version": "3.9.13"
  }
 },
 "nbformat": 4,
 "nbformat_minor": 5
}
